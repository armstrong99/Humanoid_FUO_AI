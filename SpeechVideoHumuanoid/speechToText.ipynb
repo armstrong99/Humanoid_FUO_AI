{
 "cells": [
  {
   "cell_type": "code",
   "execution_count": 3,
   "metadata": {},
   "outputs": [
    {
     "ename": "ImportError",
     "evalue": "cannot import name 'validateBoxInVideoFrameQuestions' from 'similarQuestion' (/Users/ndukwearmstrong/trash/similarQuestion.py)",
     "output_type": "error",
     "traceback": [
      "\u001b[0;31m---------------------------------------------------------------------------\u001b[0m",
      "\u001b[0;31mImportError\u001b[0m                               Traceback (most recent call last)",
      "Cell \u001b[0;32mIn[3], line 5\u001b[0m\n\u001b[1;32m      3\u001b[0m \u001b[39mfrom\u001b[39;00m \u001b[39mgtts\u001b[39;00m \u001b[39mimport\u001b[39;00m gTTS\n\u001b[1;32m      4\u001b[0m \u001b[39mfrom\u001b[39;00m \u001b[39mresponseml\u001b[39;00m \u001b[39mimport\u001b[39;00m resolveAIResponse\n\u001b[0;32m----> 5\u001b[0m \u001b[39mfrom\u001b[39;00m \u001b[39msimilarQuestion\u001b[39;00m \u001b[39mimport\u001b[39;00m validateBoxInVideoFrameQuestions\n\u001b[1;32m      6\u001b[0m \u001b[39mfrom\u001b[39;00m \u001b[39mboxQuestion\u001b[39;00m \u001b[39mimport\u001b[39;00m similar_questions\n\u001b[1;32m      9\u001b[0m \u001b[39m# Initialize the recognizer\u001b[39;00m\n",
      "\u001b[0;31mImportError\u001b[0m: cannot import name 'validateBoxInVideoFrameQuestions' from 'similarQuestion' (/Users/ndukwearmstrong/trash/similarQuestion.py)"
     ]
    }
   ],
   "source": [
    "import os\n",
    "import speech_recognition as sr\n",
    "from gtts import gTTS\n",
    "from responseml import resolveAIResponse\n",
    "from similarQuestion import is_question_similar\n",
    "from boxQuestion import similar_questions\n",
    "\n",
    "\n",
    "# Initialize the recognizer\n",
    "recognizer = sr.Recognizer()\n",
    "special_called = False\n",
    "\n",
    "\n",
    "while True:\n",
    "    # Capture audio from the microphone\n",
    "    with sr.Microphone() as source:\n",
    "        print(\"Please speak something...\")\n",
    "        recognizer.adjust_for_ambient_noise(source)  # Adjust for ambient noise\n",
    "        audio = recognizer.listen(source, timeout=None)  # Listen indefinitely until manually stopped\n",
    "\n",
    "    print(\"Recognizing...\")\n",
    "\n",
    "    try:\n",
    "        # Recognize the audio using Google Web Speech API\n",
    "        text = recognizer.recognize_google(audio).lower()\n",
    "        print(\"This is what im hearing...... \", text)\n",
    "        if not special_called and (\"hello special\" or \"hi special\" or \"hey special\") in text:\n",
    "            # Respond to \"special\" with a custom message\n",
    "            response = \"Hi Armstrong, how can I help you?\"\n",
    "            special_called = True\n",
    "        elif special_called and resolveAIResponse(text) != \"I can't really answer that.\":\n",
    "            response = resolveAIResponse(text)\n",
    "        elif special_called and resolveAIResponse(text) == \"I can't really answer that.\":\n",
    "            if is_question_similar(text, similar_questions):\n",
    "              # process video here\n",
    "              response = \"I cant process video frames at the moment!\"\n",
    "            else: \n",
    "                response = \"Pls ask me about my well-being or what I can see!\"\n",
    "        else:\n",
    "            # If no recognized phrases match, instruct the user to call your name\n",
    "            response = \"Hey! please call my name to talk with me.\"\n",
    "\n",
    "        print(response)\n",
    "\n",
    "        # Convert the response text to audio using gTTS\n",
    "        tts = gTTS(response)\n",
    "\n",
    "        # Play the generated audio (requires a program capable of playing audio files)\n",
    "        tts.save(\"output.mp3\")  # Save the generated audio to a file (optional)\n",
    "        os.system(\"mpg123 -q output.mp3\")  # Adjust the command based on your system's capabilities\n",
    "\n",
    "    except sr.UnknownValueError:\n",
    "        print(\"Sorry, I could not understand what you said.\")\n",
    "    except sr.RequestError as e:\n",
    "        print(f\"Sorry, an error occurred: {e}\")\n"
   ]
  }
 ],
 "metadata": {
  "kernelspec": {
   "display_name": "Python 3",
   "language": "python",
   "name": "python3"
  },
  "language_info": {
   "codemirror_mode": {
    "name": "ipython",
    "version": 3
   },
   "file_extension": ".py",
   "mimetype": "text/x-python",
   "name": "python",
   "nbconvert_exporter": "python",
   "pygments_lexer": "ipython3",
   "version": "3.11.3"
  },
  "orig_nbformat": 4
 },
 "nbformat": 4,
 "nbformat_minor": 2
}
