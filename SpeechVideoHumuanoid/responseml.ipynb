{
 "cells": [
  {
   "cell_type": "code",
   "execution_count": 4,
   "metadata": {},
   "outputs": [
    {
     "name": "stdout",
     "output_type": "stream",
     "text": [
      "Response: My family is well, thanks.\n"
     ]
    }
   ],
   "source": [
    "import numpy as np\n",
    "from sklearn.feature_extraction.text import TfidfVectorizer\n",
    "from sklearn.metrics.pairwise import cosine_similarity\n",
    "from greetingData import greetings\n",
    "from greetingData import responses\n",
    "\n",
    "# Set a threshold for cosine similarity\n",
    "cosine_similarity_threshold = 0.7  # You can adjust this threshold as needed\n",
    "\n",
    "def resolveAIResponse(text):\n",
    "    # Convert labels to numerical values\n",
    "    labels = np.arange(len(responses))\n",
    "\n",
    "    # TF-IDF vectorization\n",
    "    vectorizer = TfidfVectorizer()\n",
    "    X = vectorizer.fit_transform(greetings)\n",
    "\n",
    "    # Preprocess and vectorize the user's input\n",
    "    input_text = text  # Use the provided input text\n",
    "    input_vector = vectorizer.transform([input_text])\n",
    "\n",
    "    # Calculate cosine similarity between the input and all greetings\n",
    "    cosine_similarities = cosine_similarity(input_vector, X)\n",
    "\n",
    "    # Find the index of the most similar greeting\n",
    "    most_similar_idx = cosine_similarities.argmax()\n",
    "\n",
    "    # Get the corresponding response and its similarity score\n",
    "    max_similarity_score = cosine_similarities[0, most_similar_idx]\n",
    "    response = responses[most_similar_idx]\n",
    "\n",
    "    # Check if the similarity score is below the threshold\n",
    "    if max_similarity_score < cosine_similarity_threshold:\n",
    "        default_response = \"I can't really answer that.\"\n",
    "        return default_response\n",
    "    else:\n",
    "        return response\n",
    "\n",
    "# # Example usage\n",
    "# user_input = \"How's is the family\"\n",
    "# response = resolveAIResponse(user_input)\n",
    "# print(\"Response:\", response)\n"
   ]
  }
 ],
 "metadata": {
  "kernelspec": {
   "display_name": "Python 3",
   "language": "python",
   "name": "python3"
  },
  "language_info": {
   "codemirror_mode": {
    "name": "ipython",
    "version": 3
   },
   "file_extension": ".py",
   "mimetype": "text/x-python",
   "name": "python",
   "nbconvert_exporter": "python",
   "pygments_lexer": "ipython3",
   "version": "3.11.3"
  },
  "orig_nbformat": 4
 },
 "nbformat": 4,
 "nbformat_minor": 2
}
